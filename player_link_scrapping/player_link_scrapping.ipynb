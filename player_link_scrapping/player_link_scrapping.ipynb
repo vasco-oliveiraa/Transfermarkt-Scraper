{
 "cells": [
  {
   "cell_type": "code",
   "execution_count": null,
   "id": "2000da14-7153-4ec1-a90f-68508908f2c3",
   "metadata": {},
   "outputs": [],
   "source": [
    "import requests as rq\n",
    "from bs4 import BeautifulSoup as bs\n",
    "import pandas as pd\n",
    "from time import sleep\n",
    "from random import randint"
   ]
  },
  {
   "cell_type": "code",
   "execution_count": null,
   "id": "8b2998ed-f0e8-4a27-84eb-9dcd74063958",
   "metadata": {},
   "outputs": [],
   "source": [
    "headers = {'User-Agent': 'Mozilla/5.0 (Windows NT 10.0;Win64) AppleWebkit/537.36 (KHTML, like Gecko) Chrome/89.0.4389.82 Safari/537.36'}\n",
    "\n",
    "teams = [\n",
    "    'https://www.transfermarkt.com/real-madrid/startseite/verein/418',\n",
    "    'https://www.transfermarkt.com/fc-bayern-munchen/startseite/verein/27',\n",
    "    'https://www.transfermarkt.com/fc-barcelona/startseite/verein/131',\n",
    "    'https://www.transfermarkt.com/manchester-united/startseite/verein/985',\n",
    "    'https://www.transfermarkt.com/juventus-turin/startseite/verein/506',\n",
    "    'https://www.transfermarkt.com/fc-chelsea/startseite/verein/631',\n",
    "    'https://www.transfermarkt.com/fc-liverpool/startseite/verein/31',\n",
    "    'https://www.transfermarkt.com/manchester-city/startseite/verein/281',\n",
    "    'https://www.transfermarkt.com/fc-paris-saint-germain/startseite/verein/583',\n",
    "    'https://www.transfermarkt.com/atletico-madrid/startseite/verein/13'\n",
    "]\n",
    "\n",
    "years = range(2012,2022)\n",
    "\n",
    "players = []"
   ]
  },
  {
   "cell_type": "code",
   "execution_count": null,
   "id": "5b62e90f-a166-45ae-9c37-f028d15ca7f2",
   "metadata": {
    "tags": []
   },
   "outputs": [],
   "source": [
    "for team in teams:\n",
    "    \n",
    "    for n in years:\n",
    "        \n",
    "        team_url_season = str(team) + '?saison_id='+ str(n)\n",
    "        \n",
    "        request = rq.get(team_url_season, headers=headers)\n",
    "        soup = bs(request.text, 'html.parser')\n",
    "        players_table = soup.find_all('table', class_='items')[0]\n",
    "        links = players_table.find_all('a')\n",
    "        links = [l.get(\"href\") for l in links]\n",
    "        links = [l for l in links if '/profil/spieler/' in l]\n",
    "        players.extend(links)\n",
    "        sleep(randint(1,10))\n",
    "        print(team, n)"
   ]
  },
  {
   "cell_type": "code",
   "execution_count": null,
   "id": "ec57979a-b834-4220-9175-92cce836bf13",
   "metadata": {},
   "outputs": [],
   "source": [
    "dict_players = {'URL' : players}\n",
    "df = pd.DataFrame(dict_players)\n",
    "df = df.drop_duplicates(subset = 'URL')\n",
    "df.index = range(0,len(df))\n",
    "df['URL'] = 'https://www.transfermarkt.com' + df['URL'].astype(str)\n",
    "df.to_excel(\"players_list.xlsx\")"
   ]
  }
 ],
 "metadata": {
  "kernelspec": {
   "display_name": "Python 3 (ipykernel)",
   "language": "python",
   "name": "python3"
  },
  "language_info": {
   "codemirror_mode": {
    "name": "ipython",
    "version": 3
   },
   "file_extension": ".py",
   "mimetype": "text/x-python",
   "name": "python",
   "nbconvert_exporter": "python",
   "pygments_lexer": "ipython3",
   "version": "3.9.12"
  }
 },
 "nbformat": 4,
 "nbformat_minor": 5
}
