{
 "cells": [
  {
   "cell_type": "code",
   "execution_count": 6,
   "id": "38df3f2d-5f56-4d41-bdcb-8c1c86b676d9",
   "metadata": {},
   "outputs": [],
   "source": [
    "import requests as rq\n",
    "from bs4 import BeautifulSoup as bs\n",
    "import pandas as pd\n",
    "from time import sleep\n",
    "from random import randint"
   ]
  },
  {
   "cell_type": "code",
   "execution_count": 207,
   "id": "9a3528c8-e21a-461a-b704-df5f9352446e",
   "metadata": {},
   "outputs": [],
   "source": [
    "# df_links = pd.read_csv('player_link_scrapping/output/players_list.csv')\n",
    "# links = [df_links['URL']] \n",
    "\n",
    "links = ['https://www.transfermarkt.com/cristiano-ronaldo/profil/spieler/8198','https://www.transfermarkt.com/kylian-mbappe/profil/spieler/342229']\n",
    "\n",
    "headers = {'User-Agent': 'Mozilla/5.0 (Windows NT 10.0;Win64) AppleWebkit/537.36 (KHTML, like Gecko) Chrome/89.0.4389.82 Safari/537.36'}"
   ]
  },
  {
   "cell_type": "code",
   "execution_count": 208,
   "id": "86cf06d8-457d-44d4-bdaf-a8bcb8adb939",
   "metadata": {},
   "outputs": [],
   "source": [
    "list_of_row_dicts = []\n",
    "\n",
    "for link in links:\n",
    "\n",
    "    detail_page = '/'.join(link.split('/')[:4]) + str('/leistungsdatendetails/') + '/'.join(link.split('/')[5:7]) + str('/saison//verein/0/liga/0/wettbewerb//pos/0/trainer_id/0/plus/1')\n",
    "    \n",
    "    request = rq.get(detail_page,headers=headers)\n",
    "    soup = bs(request.text, 'html.parser')\n",
    "    rows = soup.find_all('tr', class_=['odd','even'])\n",
    "    \n",
    "    for row in rows:\n",
    "\n",
    "        season = row.find_all('td', class_='zentriert')[0].text\n",
    "\n",
    "        competition = row.find_all('td', class_='hauptlink no-border-links')[0].text\n",
    "\n",
    "        club = row.find_all('td', class_='hauptlink no-border-rechts zentriert')[0].find('a')['title']\n",
    "\n",
    "        called_up = row.find_all('td', class_='zentriert')[2].text\n",
    "\n",
    "        appearances = row.find_all('td', class_='zentriert')[3].text\n",
    "\n",
    "        points_per_match = row.find_all('td', class_='zentriert')[4].text\n",
    "\n",
    "        goals = row.find_all('td', class_='zentriert')[5].text\n",
    "\n",
    "        assists = row.find_all('td', class_='zentriert')[6].text\n",
    "\n",
    "        own_goals = row.find_all('td', class_='zentriert')[7].text\n",
    "\n",
    "        subbed_on = row.find_all('td', class_='zentriert')[8].text\n",
    "\n",
    "        subbed_off = row.find_all('td', class_='zentriert')[9].text\n",
    "\n",
    "        yellow_cards = row.find_all('td', class_='zentriert')[10].text\n",
    "\n",
    "        sec_yellow_cards = row.find_all('td', class_='zentriert')[11].text\n",
    "\n",
    "        red_cards = row.find_all('td', class_='zentriert')[12].text\n",
    "\n",
    "        penalty_goals = row.find_all('td', class_='zentriert')[13].text\n",
    "\n",
    "        min_per_goal = row.find_all('td', class_='rechts')[0].text[:-1]\n",
    "\n",
    "        minutes = row.find_all('td', class_='rechts')[1].text[:-1]\n",
    "        \n",
    "        row_dic = {\n",
    "            'Player_URL' : link,\n",
    "            'Season' : season,\n",
    "            'Competition': competition,\n",
    "            'Club' : club,\n",
    "            'Called_Up' : called_up,\n",
    "            'Appearances' : appearances,\n",
    "            'Points_Per_Match' : points_per_match,\n",
    "            'Goals' : goals,\n",
    "            'Assists' : assists,\n",
    "            'Own_Goals' : own_goals,\n",
    "            'Subbed_On' : subbed_on,\n",
    "            'Subbed_Off' : subbed_off,\n",
    "            'Yellow_Cards' : yellow_cards,\n",
    "            'Second_Yellow_Cards' : sec_yellow_cards,\n",
    "            'Red_Cards' : red_cards,\n",
    "            'Penalty_Goals' : penalty_goals,\n",
    "            'Minutes_Per_Goal' : min_per_goal,\n",
    "            'Minutes_Played' : minutes\n",
    "        }\n",
    "        list_of_row_dicts.append(row_dic)\n",
    "\n",
    "df = pd.DataFrame(list_of_row_dicts)\n",
    "df = df.loc[df['Season'] != '22/23']"
   ]
  },
  {
   "cell_type": "code",
   "execution_count": 214,
   "id": "946f5aa9-5b22-4b16-a65f-a141133c3b1c",
   "metadata": {
    "tags": []
   },
   "outputs": [],
   "source": [
    "df.to_csv('output/player_season_details.csv')"
   ]
  }
 ],
 "metadata": {
  "kernelspec": {
   "display_name": "Python 3 (ipykernel)",
   "language": "python",
   "name": "python3"
  },
  "language_info": {
   "codemirror_mode": {
    "name": "ipython",
    "version": 3
   },
   "file_extension": ".py",
   "mimetype": "text/x-python",
   "name": "python",
   "nbconvert_exporter": "python",
   "pygments_lexer": "ipython3",
   "version": "3.9.12"
  }
 },
 "nbformat": 4,
 "nbformat_minor": 5
}
