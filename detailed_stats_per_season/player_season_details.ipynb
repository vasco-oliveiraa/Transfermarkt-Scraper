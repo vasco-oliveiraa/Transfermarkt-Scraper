{
 "cells": [
  {
   "cell_type": "code",
   "execution_count": 48,
   "id": "38df3f2d-5f56-4d41-bdcb-8c1c86b676d9",
   "metadata": {},
   "outputs": [],
   "source": [
    "import requests as rq\n",
    "from bs4 import BeautifulSoup as bs\n",
    "import pandas as pd\n",
    "from time import sleep\n",
    "from random import randint\n",
    "import re"
   ]
  },
  {
   "cell_type": "code",
   "execution_count": 13,
   "id": "9a3528c8-e21a-461a-b704-df5f9352446e",
   "metadata": {},
   "outputs": [],
   "source": [
    "df_links = pd.read_csv('../player_link_scrapping/output/player_links.csv')\n",
    "\n",
    "links = df_links['URL'].tolist()\n",
    "\n",
    "headers = {'User-Agent': 'Mozilla/5.0 (Windows NT 10.0;Win64) AppleWebkit/537.36 (KHTML, like Gecko) Chrome/89.0.4389.82 Safari/537.36'}"
   ]
  },
  {
   "cell_type": "code",
   "execution_count": 37,
   "id": "76d9e51f-b475-4c81-b087-65b3265bae4d",
   "metadata": {},
   "outputs": [
    {
     "data": {
      "text/plain": [
       "'https://www.transfermarkt.com/raphael-varane/leistungsdatendetails/spieler/164770/saison//verein/0/liga/0/wettbewerb//pos/0/trainer_id/0/plus/1'"
      ]
     },
     "execution_count": 37,
     "metadata": {},
     "output_type": "execute_result"
    }
   ],
   "source": [
    "detail_page = '/'.join(links[5].split('/')[:4]) + str('/leistungsdatendetails/') + '/'.join(links[5].split('/')[5:7]) + str('/saison//verein/0/liga/0/wettbewerb//pos/0/trainer_id/0/plus/1')\n",
    "detail_page"
   ]
  },
  {
   "cell_type": "code",
   "execution_count": 78,
   "id": "f74f22f4-7de3-48f2-a794-09a226bf0cdf",
   "metadata": {},
   "outputs": [
    {
     "data": {
      "text/plain": [
       "True"
      ]
     },
     "execution_count": 78,
     "metadata": {},
     "output_type": "execute_result"
    }
   ],
   "source": [
    "request = rq.get(detail_page,headers=headers)\n",
    "\n",
    "soup = bs(request.text, 'html.parser')\n",
    "\n"
   ]
  },
  {
   "cell_type": "code",
   "execution_count": 79,
   "id": "86cf06d8-457d-44d4-bdaf-a8bcb8adb939",
   "metadata": {},
   "outputs": [
    {
     "name": "stdout",
     "output_type": "stream",
     "text": [
      "Index Error : Sleeping for 10 seconds before retrying\n",
      "Index Error : Sleeping for 10 seconds before retrying\n"
     ]
    },
    {
     "ename": "KeyboardInterrupt",
     "evalue": "",
     "output_type": "error",
     "traceback": [
      "\u001b[1;31m---------------------------------------------------------------------------\u001b[0m",
      "\u001b[1;31mIndexError\u001b[0m                                Traceback (most recent call last)",
      "Input \u001b[1;32mIn [79]\u001b[0m, in \u001b[0;36m<cell line: 3>\u001b[1;34m()\u001b[0m\n\u001b[0;32m     11\u001b[0m rows \u001b[38;5;241m=\u001b[39m soup\u001b[38;5;241m.\u001b[39mfind_all(\u001b[38;5;124m'\u001b[39m\u001b[38;5;124mtr\u001b[39m\u001b[38;5;124m'\u001b[39m, class_\u001b[38;5;241m=\u001b[39m[\u001b[38;5;124m'\u001b[39m\u001b[38;5;124modd\u001b[39m\u001b[38;5;124m'\u001b[39m,\u001b[38;5;124m'\u001b[39m\u001b[38;5;124meven\u001b[39m\u001b[38;5;124m'\u001b[39m])\n\u001b[1;32m---> 13\u001b[0m \u001b[38;5;28;01mif\u001b[39;00m \u001b[43msoup\u001b[49m\u001b[38;5;241;43m.\u001b[39;49m\u001b[43mfind_all\u001b[49m\u001b[43m(\u001b[49m\u001b[38;5;124;43m'\u001b[39;49m\u001b[38;5;124;43mspan\u001b[39;49m\u001b[38;5;124;43m'\u001b[39;49m\u001b[43m,\u001b[49m\u001b[43m \u001b[49m\u001b[43mclass_\u001b[49m\u001b[38;5;241;43m=\u001b[39;49m\u001b[38;5;124;43m'\u001b[39;49m\u001b[38;5;124;43mdata-header__content\u001b[39;49m\u001b[38;5;124;43m'\u001b[39;49m\u001b[43m)\u001b[49m\u001b[43m[\u001b[49m\u001b[38;5;241;43m7\u001b[39;49m\u001b[43m]\u001b[49m\u001b[38;5;241m.\u001b[39mtext\u001b[38;5;241m.\u001b[39mstrip() \u001b[38;5;241m==\u001b[39m \u001b[38;5;124m'\u001b[39m\u001b[38;5;124mGoalkeeper\u001b[39m\u001b[38;5;124m'\u001b[39m:\n\u001b[0;32m     14\u001b[0m     \u001b[38;5;28;01mcontinue\u001b[39;00m\n",
      "\u001b[1;31mIndexError\u001b[0m: list index out of range",
      "\nDuring handling of the above exception, another exception occurred:\n",
      "\u001b[1;31mKeyboardInterrupt\u001b[0m                         Traceback (most recent call last)",
      "Input \u001b[1;32mIn [79]\u001b[0m, in \u001b[0;36m<cell line: 3>\u001b[1;34m()\u001b[0m\n\u001b[0;32m     17\u001b[0m         \u001b[38;5;28;01mexcept\u001b[39;00m \u001b[38;5;167;01mIndexError\u001b[39;00m:\n\u001b[0;32m     18\u001b[0m             \u001b[38;5;28mprint\u001b[39m(\u001b[38;5;124m'\u001b[39m\u001b[38;5;124mIndex Error : Sleeping for 10 seconds before retrying\u001b[39m\u001b[38;5;124m'\u001b[39m)\n\u001b[1;32m---> 19\u001b[0m             \u001b[43msleep\u001b[49m\u001b[43m(\u001b[49m\u001b[38;5;241;43m10\u001b[39;49m\u001b[43m)\u001b[49m\n\u001b[0;32m     20\u001b[0m \u001b[38;5;28mprint\u001b[39m(link\u001b[38;5;241m.\u001b[39msplit(\u001b[38;5;124m'\u001b[39m\u001b[38;5;124m/\u001b[39m\u001b[38;5;124m'\u001b[39m)[\u001b[38;5;241m3\u001b[39m])\n\u001b[0;32m     21\u001b[0m sleep(randint(\u001b[38;5;241m1\u001b[39m,\u001b[38;5;241m3\u001b[39m))\n",
      "\u001b[1;31mKeyboardInterrupt\u001b[0m: "
     ]
    }
   ],
   "source": [
    "list_of_row_dicts = []\n",
    "\n",
    "for link in links:\n",
    "\n",
    "    while True:\n",
    "            try:\n",
    "                detail_page = '/'.join(link.split('/')[:4]) + str('/leistungsdatendetails/') + '/'.join(link.split('/')[5:7]) + str('/saison//verein/0/liga/0/wettbewerb//pos/0/trainer_id/0/plus/1')\n",
    "    \n",
    "                request = rq.get(detail_page,headers=headers)\n",
    "                soup = bs(request.text, 'html.parser')\n",
    "                rows = soup.find_all('tr', class_=['odd','even'])\n",
    "           #I need it to check if the player is a goalkeeper, and if not, the follow through with the rest of the code, if it is a keeper, then skip and do not consider for anything     \n",
    "                if soup.find_all('span', class_='data-header__content')[7].text.strip() == 'Goalkeeper':\n",
    "                    continue\n",
    "    \n",
    "                break\n",
    "            except IndexError:\n",
    "                print('Index Error : Sleeping for 10 seconds before retrying')\n",
    "                sleep(10)\n",
    "    print(link.split('/')[3])\n",
    "    sleep(randint(1,3))\n",
    "    \n",
    "    for row in rows:\n",
    "\n",
    "            season = row.find_all('td', class_='zentriert')[0].text\n",
    "\n",
    "            competition = row.find_all('td', class_='hauptlink no-border-links')[0].text\n",
    "\n",
    "            club = row.find_all('td', class_='hauptlink no-border-rechts zentriert')[0].find('a')['title']\n",
    "\n",
    "            called_up = row.find_all('td', class_='zentriert')[2].text\n",
    "\n",
    "            appearances = row.find_all('td', class_='zentriert')[3].text\n",
    "            \n",
    "            points_per_match = row.find_all('td', class_='zentriert')[4].text\n",
    "            goals = row.find_all('td', class_='zentriert')[5].text\n",
    "            assists = row.find_all('td', class_='zentriert')[6].text\n",
    "            own_goals = row.find_all('td', class_='zentriert')[7].text\n",
    "\n",
    "            subbed_on = row.find_all('td', class_='zentriert')[8].text\n",
    "\n",
    "            subbed_off = row.find_all('td', class_='zentriert')[9].text\n",
    "\n",
    "            yellow_cards = row.find_all('td', class_='zentriert')[10].text\n",
    "\n",
    "            sec_yellow_cards = row.find_all('td', class_='zentriert')[11].text\n",
    "\n",
    "            red_cards = row.find_all('td', class_='zentriert')[12].text\n",
    "\n",
    "            penalty_goals = row.find_all('td', class_='zentriert')[13].text\n",
    "\n",
    "            min_per_goal = row.find_all('td', class_='rechts')[0].text[:-1]\n",
    "\n",
    "            minutes = row.find_all('td', class_='rechts')[1].text[:-1]\n",
    "\n",
    "            row_dic = {\n",
    "            'Player_URL' : link,\n",
    "            'Season' : season,\n",
    "            'Competition': competition,\n",
    "            'Club' : club,\n",
    "            'Called_Up' : called_up,\n",
    "            'Appearances' : appearances,\n",
    "            'Points_Per_Match' : points_per_match,\n",
    "            'Goals' : goals,\n",
    "            'Assists' : assists,\n",
    "            'Own_Goals' : own_goals,\n",
    "            'Subbed_On' : subbed_on,\n",
    "            'Subbed_Off' : subbed_off,\n",
    "            'Yellow_Cards' : yellow_cards,\n",
    "            'Second_Yellow_Cards' : sec_yellow_cards,\n",
    "            'Red_Cards' : red_cards,\n",
    "            'Penalty_Goals' : penalty_goals,\n",
    "            'Minutes_Per_Goal' : min_per_goal,\n",
    "            'Minutes_Played' : minutes\n",
    "            }\n",
    "            list_of_row_dicts.append(row_dic)\n",
    "\n",
    "df = pd.DataFrame(list_of_row_dicts)\n",
    "df = df.loc[df['Season'] != '22/23']"
   ]
  },
  {
   "cell_type": "code",
   "execution_count": 214,
   "id": "946f5aa9-5b22-4b16-a65f-a141133c3b1c",
   "metadata": {
    "tags": []
   },
   "outputs": [],
   "source": [
    "df.to_csv('output/player_season_details.csv')"
   ]
  }
 ],
 "metadata": {
  "kernelspec": {
   "display_name": "Python 3 (ipykernel)",
   "language": "python",
   "name": "python3"
  },
  "language_info": {
   "codemirror_mode": {
    "name": "ipython",
    "version": 3
   },
   "file_extension": ".py",
   "mimetype": "text/x-python",
   "name": "python",
   "nbconvert_exporter": "python",
   "pygments_lexer": "ipython3",
   "version": "3.9.12"
  }
 },
 "nbformat": 4,
 "nbformat_minor": 5
}
