{
 "cells": [
  {
   "cell_type": "code",
   "execution_count": null,
   "id": "833c881f-0075-4fc1-81d2-fa98a2c9ff8b",
   "metadata": {},
   "outputs": [],
   "source": [
    "import requests as rq\n",
    "from bs4 import BeautifulSoup as bs\n",
    "import pandas as pd\n",
    "from time import sleep\n",
    "from random import randint"
   ]
  },
  {
   "cell_type": "code",
   "execution_count": null,
   "id": "80849bbf-f62c-4321-bad5-a567f97ad152",
   "metadata": {
    "tags": []
   },
   "outputs": [],
   "source": [
    "df = pd.read_csv(f'../player_info_scrapping/output/player_links.csv')\n",
    "df = df.drop('Unnamed: 0', axis = 1)\n",
    "df.index = range(0,len(df))\n",
    "df = df.assign(Player URL = None, Date_of_Birth = None , City_of_Birth = None , Country_of_Birth = None , Height = None , Citizenship = None , Foot = None , Agent = None , Outfitter = None , Main_Position = None , Other_Position = None , Youth_Club = None)"
   ]
  },
  {
   "cell_type": "code",
   "execution_count": null,
   "id": "5f355733-58b9-4f57-a825-663b86fe38cb",
   "metadata": {},
   "outputs": [],
   "source": [
    "def get_data(url):\n",
    "    headers = {'User-Agent': 'Mozilla/5.0 (Windows NT 10.0;Win64) AppleWebkit/537.36 (KHTML, like Gecko) Chrome/89.0.4389.82 Safari/537.36'}\n",
    "    request = rq.get(url,headers=headers)\n",
    "    soup = bs(request.text, 'html.parser')\n",
    "    \n",
    "    title_spans = soup.find_all('span')\n",
    "    \n",
    "    try:\n",
    "        name = ' '.join([word for word in soup.find('h1').text.split() if not any(i.isdigit() for i in word)])\n",
    "    except IndexError:\n",
    "        name = None\n",
    "    \n",
    "    try:\n",
    "        date_of_birth = [span.find_next('span').text for span in title_spans if 'Date of birth:' in span.text][0].strip()\n",
    "    except IndexError:\n",
    "        date_of_birth = None\n",
    "        #change things for considering cities with more than 1 word name\n",
    "    try:\n",
    "        city_of_birth = [span.find_next('span').text for span in title_spans if 'Place of birth:' in span.text][0].split()[0]\n",
    "    except IndexError:\n",
    "        city_of_birth = None\n",
    "        #change things for considering countries with more than 1 word name\n",
    "    try:\n",
    "        country_of_birth = [span.find_next('span').find('img')['title'] for span in title_spans if 'Place of birth:' in span.text][0]\n",
    "    except IndexError:\n",
    "        country_of_birth = None\n",
    "        \n",
    "    try:\n",
    "        height = [span.find_next('span').text for span in title_spans if 'Height:' in span.text][0].split()[0]\n",
    "    except IndexError:\n",
    "        height = None\n",
    "    #change things for considering countries with more than 1 word name\n",
    "    try:\n",
    "        citizenship = [span.find_next('span').text for span in title_spans if 'Citizenship:' in span.text][0].split()\n",
    "    except AttributeError:\n",
    "        citizenship = None\n",
    "    \n",
    "    try:\n",
    "        foot = [span.find_next('span').text for span in title_spans if 'Foot:' in span.text][0]\n",
    "    except IndexError:\n",
    "        foot = None\n",
    "    \n",
    "    try:\n",
    "        agent = [span.find_next('span').text for span in title_spans if 'Player agent:' in span.text][0].strip()\n",
    "    except IndexError:\n",
    "        agent = None\n",
    "    \n",
    "    try:\n",
    "        outfitter = [span.find_next('span').text for span in title_spans if 'Outfitter:' in span.text][0]\n",
    "    except IndexError:\n",
    "        outfitter = None    \n",
    "    \n",
    "    try:\n",
    "        main_position = soup.find('dt', text='Main position:').find_next('dd').text\n",
    "    except AttributeError:\n",
    "        main_position = None\n",
    "    \n",
    "    try:\n",
    "        other_position = [dt.text for dt in soup.find('dt', text='Other position:').find_next_siblings('dd')]\n",
    "    except AttributeError:\n",
    "        other_position = None\n",
    "\n",
    "    try:\n",
    "        youth_club = soup.find('div', class_='box tm-player-additional-data viewport-tracking').find('div', class_='content').text.strip().split(',')\n",
    "    except AttributeError:\n",
    "        youth_club = None\n",
    "        \n",
    "    print(name)\n",
    "    sleep(randint(1,10))\n",
    "    \n",
    "    return [name, date_of_birth, city_of_birth, country_of_birth, height, citizenship, foot, agent, outfitter, main_position, other_position, youth_club]"
   ]
  },
  {
   "cell_type": "code",
   "execution_count": null,
   "id": "dd445f99-7339-4e00-8328-2761a8f2cf67",
   "metadata": {
    "tags": []
   },
   "outputs": [],
   "source": [
    "df[['Name', 'Date_of_Birth', 'City_of_Birth', 'Country_of_Birth', 'Height', 'Citizenship', 'Foot', 'Agent', 'Outfitter', 'Main_Position', 'Other_Position', 'Youth_Club']] = df['URL'].apply(lambda url: pd.Series(get_data(url)))\n",
    "df.to_csv('output/player_info.csv')"
   ]
  }
 ],
 "metadata": {
  "kernelspec": {
   "display_name": "Python 3 (ipykernel)",
   "language": "python",
   "name": "python3"
  },
  "language_info": {
   "codemirror_mode": {
    "name": "ipython",
    "version": 3
   },
   "file_extension": ".py",
   "mimetype": "text/x-python",
   "name": "python",
   "nbconvert_exporter": "python",
   "pygments_lexer": "ipython3",
   "version": "3.9.12"
  }
 },
 "nbformat": 4,
 "nbformat_minor": 5
}
