{
 "cells": [
  {
   "cell_type": "code",
   "execution_count": null,
   "id": "4508810a-f8da-41a1-bc2f-ea900b236d6f",
   "metadata": {},
   "outputs": [],
   "source": [
    "import pandas as pd\n",
    "import requests as rq\n",
    "from bs4 import BeautifulSoup as bs"
   ]
  },
  {
   "cell_type": "code",
   "execution_count": 18,
   "id": "01dfdcd9-5914-4161-b44e-821473a72c7a",
   "metadata": {},
   "outputs": [],
   "source": [
    "# headers = {'User-Agent': 'Mozilla/5.0 (Windows NT 10.0;Win64) AppleWebkit/537.36 (KHTML, like Gecko) Chrome/89.0.4389.82 Safari/537.36'}\n",
    "\n",
    "# mv_url = 'https://www.transfermarkt.com/benjamin-pavard/marktwertverlauf/spieler/353366'\n",
    "# request = rq.get(mv_url, headers=headers)\n",
    "# soup = bs(request.text, 'html.parser')"
   ]
  },
  {
   "cell_type": "code",
   "execution_count": 14,
   "id": "b7d2afb4-6bcd-4766-b58a-8bb16a431a79",
   "metadata": {},
   "outputs": [
    {
     "ename": "TimeoutException",
     "evalue": "Message: \nStacktrace:\nBacktrace:\n\t(No symbol) [0x00506643]\n\t(No symbol) [0x0049BE21]\n\t(No symbol) [0x0039DA9D]\n\t(No symbol) [0x003D1342]\n\t(No symbol) [0x003D147B]\n\t(No symbol) [0x00408DC2]\n\t(No symbol) [0x003EFDC4]\n\t(No symbol) [0x00406B09]\n\t(No symbol) [0x003EFB76]\n\t(No symbol) [0x003C49C1]\n\t(No symbol) [0x003C5E5D]\n\tGetHandleVerifier [0x0077A142+2497106]\n\tGetHandleVerifier [0x007A85D3+2686691]\n\tGetHandleVerifier [0x007ABB9C+2700460]\n\tGetHandleVerifier [0x005B3B10+635936]\n\t(No symbol) [0x004A4A1F]\n\t(No symbol) [0x004AA418]\n\t(No symbol) [0x004AA505]\n\t(No symbol) [0x004B508B]\n\tBaseThreadInitThunk [0x75CD7D69+25]\n\tRtlInitializeExceptionChain [0x770BBB9B+107]\n\tRtlClearBits [0x770BBB1F+191]\n",
     "output_type": "error",
     "traceback": [
      "\u001b[1;31m---------------------------------------------------------------------------\u001b[0m",
      "\u001b[1;31mTimeoutException\u001b[0m                          Traceback (most recent call last)",
      "Input \u001b[1;32mIn [14]\u001b[0m, in \u001b[0;36m<cell line: 16>\u001b[1;34m()\u001b[0m\n\u001b[0;32m     14\u001b[0m \u001b[38;5;66;03m# wait for the element to be present on the page\u001b[39;00m\n\u001b[0;32m     15\u001b[0m wait \u001b[38;5;241m=\u001b[39m WebDriverWait(driver, \u001b[38;5;241m10\u001b[39m)\n\u001b[1;32m---> 16\u001b[0m element \u001b[38;5;241m=\u001b[39m \u001b[43mwait\u001b[49m\u001b[38;5;241;43m.\u001b[39;49m\u001b[43muntil\u001b[49m\u001b[43m(\u001b[49m\u001b[43mEC\u001b[49m\u001b[38;5;241;43m.\u001b[39;49m\u001b[43mpresence_of_element_located\u001b[49m\u001b[43m(\u001b[49m\u001b[43m(\u001b[49m\u001b[43mBy\u001b[49m\u001b[38;5;241;43m.\u001b[39;49m\u001b[43mXPATH\u001b[49m\u001b[43m,\u001b[49m\u001b[43m \u001b[49m\u001b[38;5;124;43m'\u001b[39;49m\u001b[38;5;124;43m//*[@id=\u001b[39;49m\u001b[38;5;124;43m\"\u001b[39;49m\u001b[38;5;124;43mhighcharts-0\u001b[39;49m\u001b[38;5;124;43m\"\u001b[39;49m\u001b[38;5;124;43m]/svg/g[5]/g[2]/image[33]\u001b[39;49m\u001b[38;5;124;43m'\u001b[39;49m\u001b[43m)\u001b[49m\u001b[43m)\u001b[49m\u001b[43m)\u001b[49m\n\u001b[0;32m     18\u001b[0m \u001b[38;5;66;03m# use Selenium to hover over the element\u001b[39;00m\n\u001b[0;32m     19\u001b[0m webdriver\u001b[38;5;241m.\u001b[39mActionChains(driver)\u001b[38;5;241m.\u001b[39mmove_to_element(element)\u001b[38;5;241m.\u001b[39mperform()\n",
      "File \u001b[1;32mC:\\Users\\Public\\Anaconda\\lib\\site-packages\\selenium\\webdriver\\support\\wait.py:95\u001b[0m, in \u001b[0;36mWebDriverWait.until\u001b[1;34m(self, method, message)\u001b[0m\n\u001b[0;32m     93\u001b[0m     \u001b[38;5;28;01mif\u001b[39;00m time\u001b[38;5;241m.\u001b[39mmonotonic() \u001b[38;5;241m>\u001b[39m end_time:\n\u001b[0;32m     94\u001b[0m         \u001b[38;5;28;01mbreak\u001b[39;00m\n\u001b[1;32m---> 95\u001b[0m \u001b[38;5;28;01mraise\u001b[39;00m TimeoutException(message, screen, stacktrace)\n",
      "\u001b[1;31mTimeoutException\u001b[0m: Message: \nStacktrace:\nBacktrace:\n\t(No symbol) [0x00506643]\n\t(No symbol) [0x0049BE21]\n\t(No symbol) [0x0039DA9D]\n\t(No symbol) [0x003D1342]\n\t(No symbol) [0x003D147B]\n\t(No symbol) [0x00408DC2]\n\t(No symbol) [0x003EFDC4]\n\t(No symbol) [0x00406B09]\n\t(No symbol) [0x003EFB76]\n\t(No symbol) [0x003C49C1]\n\t(No symbol) [0x003C5E5D]\n\tGetHandleVerifier [0x0077A142+2497106]\n\tGetHandleVerifier [0x007A85D3+2686691]\n\tGetHandleVerifier [0x007ABB9C+2700460]\n\tGetHandleVerifier [0x005B3B10+635936]\n\t(No symbol) [0x004A4A1F]\n\t(No symbol) [0x004AA418]\n\t(No symbol) [0x004AA505]\n\t(No symbol) [0x004B508B]\n\tBaseThreadInitThunk [0x75CD7D69+25]\n\tRtlInitializeExceptionChain [0x770BBB9B+107]\n\tRtlClearBits [0x770BBB1F+191]\n"
     ]
    }
   ],
   "source": [
    "from selenium import webdriver\n",
    "from bs4 import BeautifulSoup\n",
    "from time import sleep\n",
    "from selenium.webdriver.support.ui import WebDriverWait\n",
    "from selenium.webdriver.support import expected_conditions as EC\n",
    "from selenium.webdriver.common.by import By\n",
    "\n",
    "# create a new Chrome browser instance\n",
    "driver = webdriver.Chrome()\n",
    "\n",
    "# navigate to the URL of the page\n",
    "driver.get(\"https://www.transfermarkt.com/douglas-costa/marktwertverlauf/spieler/75615\")\n",
    "\n",
    "# wait for the element to be present on the page\n",
    "wait = WebDriverWait(driver, 10)\n",
    "element = wait.until(EC.presence_of_element_located((By.XPATH, '//*[@id=\"highcharts-0\"]/svg/g[5]/g[2]/image[33]')))\n",
    "\n",
    "# use Selenium to hover over the element\n",
    "webdriver.ActionChains(driver).move_to_element(element).perform()\n",
    "\n",
    "# use BeautifulSoup to parse the HTML code of the popup\n",
    "soup = BeautifulSoup(driver.page_source, \"html.parser\")\n",
    "popup = soup.find(\"image\", attrs={\"x\": \"2\"})\n",
    "\n",
    "# extract the information from the popup\n",
    "information = popup.text\n",
    "\n",
    "# close the browser instance\n",
    "driver.quit()\n"
   ]
  }
 ],
 "metadata": {
  "kernelspec": {
   "display_name": "Python 3 (ipykernel)",
   "language": "python",
   "name": "python3"
  },
  "language_info": {
   "codemirror_mode": {
    "name": "ipython",
    "version": 3
   },
   "file_extension": ".py",
   "mimetype": "text/x-python",
   "name": "python",
   "nbconvert_exporter": "python",
   "pygments_lexer": "ipython3",
   "version": "3.9.12"
  }
 },
 "nbformat": 4,
 "nbformat_minor": 5
}
