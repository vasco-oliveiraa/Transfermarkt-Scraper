{
 "cells": [
  {
   "cell_type": "code",
   "execution_count": 132,
   "id": "81008a7e-a00c-4565-87f7-60d1b5036e17",
   "metadata": {},
   "outputs": [],
   "source": [
    "import pandas as pd"
   ]
  },
  {
   "cell_type": "code",
   "execution_count": 133,
   "id": "efe55314-5b68-4c1b-9967-bdd21c8e8515",
   "metadata": {},
   "outputs": [],
   "source": [
    "df = pd.read_csv(\"../player_info_scrapping/output/player_info.csv\")\n",
    "df = df.drop('Unnamed: 0', axis = 1)"
   ]
  },
  {
   "cell_type": "code",
   "execution_count": 135,
   "id": "3194d00a-6747-46a2-9923-533c065f138c",
   "metadata": {},
   "outputs": [],
   "source": [
    "df['City_of_Birth'] = df['City_of_Birth'].str.strip('[]').str.strip(\"''\")\n",
    "\n",
    "df['Country_of_Birth'] = df['Country_of_Birth'].str.strip('[]').str.strip(\"''\")\n",
    "\n",
    "df['Height'] = df['Height'].str.replace(',','').str.strip()\n"
   ]
  },
  {
   "cell_type": "code",
   "execution_count": 139,
   "id": "4b2f59ec-14d4-46be-b9f5-905728e51b48",
   "metadata": {},
   "outputs": [],
   "source": [
    "df['Date_of_Birth'] = pd.to_datetime(df['Date_of_Birth'])\n",
    "df['City_of_Birth'] = df['City_of_Birth'].astype(str)\n",
    "df['Country_of_Birth'] = df['Country_of_Birth'].astype(str)\n",
    "df['Height'] = pd.to_numeric(df['Height'])"
   ]
  },
  {
   "cell_type": "code",
   "execution_count": 147,
   "id": "63a5e0e5-6a41-4063-8ef2-5390fc77286c",
   "metadata": {},
   "outputs": [],
   "source": [
    "df.to_csv('output/clean_player_info.csv')"
   ]
  }
 ],
 "metadata": {
  "kernelspec": {
   "display_name": "Python 3 (ipykernel)",
   "language": "python",
   "name": "python3"
  },
  "language_info": {
   "codemirror_mode": {
    "name": "ipython",
    "version": 3
   },
   "file_extension": ".py",
   "mimetype": "text/x-python",
   "name": "python",
   "nbconvert_exporter": "python",
   "pygments_lexer": "ipython3",
   "version": "3.9.12"
  }
 },
 "nbformat": 4,
 "nbformat_minor": 5
}
